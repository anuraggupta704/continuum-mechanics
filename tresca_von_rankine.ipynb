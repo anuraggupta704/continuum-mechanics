{
 "cells": [
  {
   "cell_type": "code",
   "execution_count": 1,
   "id": "f5e9d172",
   "metadata": {},
   "outputs": [
    {
     "name": "stdout",
     "output_type": "stream",
     "text": [
      "stress matrix [[ 60  40   0]\n",
      " [ 40 -30   0]\n",
      " [  0   0 -20]]\n"
     ]
    }
   ],
   "source": [
    "import math\n",
    "#find the new stress tensor tau\n",
    "import numpy as np\n",
    "import numpy\n",
    "from numpy import linalg\n",
    "## initialization of variables\n",
    "\n",
    "tau=np.array([[60, 40, 0],\n",
    "       [40, -30, 0],\n",
    "       [0, 0, -20]]) ## some units\n",
    "print('stress matrix',tau)"
   ]
  },
  {
   "cell_type": "code",
   "execution_count": 2,
   "id": "350f0969",
   "metadata": {},
   "outputs": [],
   "source": [
    "## stress invariants\n",
    "I1=tau[0,0]+tau[1,1]+tau[2,2]\n",
    "I2=tau[0,0]*tau[1,1]+tau[1,1]*tau[2,2]+tau[2,2]*tau[0,0]-(tau[0,1]**2+tau[1,2]**2+tau[2,0]**2)\n",
    "I3=tau[0,0]*tau[1,1]*tau[2,2]+2*tau[0,1]*tau[1,2]*tau[2,0]-(tau[0,0]*tau[1,2]**2+tau[1,1]*tau[2,0]**2+tau[2,2]*tau[0,1]**2)"
   ]
  },
  {
   "cell_type": "code",
   "execution_count": 3,
   "id": "562131bb",
   "metadata": {},
   "outputs": [
    {
     "name": "stdout",
     "output_type": "stream",
     "text": [
      "10 -4000 68000\n"
     ]
    }
   ],
   "source": [
    "print(I1,I2,I3)"
   ]
  },
  {
   "cell_type": "code",
   "execution_count": 4,
   "id": "cb5165cb",
   "metadata": {},
   "outputs": [
    {
     "name": "stdout",
     "output_type": "stream",
     "text": [
      "[ 75.20797289 -45.20797289 -20.        ]\n"
     ]
    }
   ],
   "source": [
    "coeff = [1, -I1, I2, -I3]\n",
    "print(np.roots(coeff))"
   ]
  },
  {
   "cell_type": "code",
   "execution_count": 5,
   "id": "7c2a9e11",
   "metadata": {},
   "outputs": [
    {
     "data": {
      "text/plain": [
       "array([ 75.20797289, -20.        , -45.20797289])"
      ]
     },
     "execution_count": 5,
     "metadata": {},
     "output_type": "execute_result"
    }
   ],
   "source": [
    "roots=np.roots(coeff)\n",
    "roots=np.sort(roots)\n",
    "sigma=roots[::-1]\n",
    "sigma"
   ]
  },
  {
   "cell_type": "code",
   "execution_count": 6,
   "id": "837d4a51",
   "metadata": {},
   "outputs": [
    {
     "data": {
      "text/plain": [
       "60.207972893961575"
      ]
     },
     "execution_count": 6,
     "metadata": {},
     "output_type": "execute_result"
    }
   ],
   "source": [
    "tau_13=(sigma[0]-sigma[2])/2\n",
    "tau_13"
   ]
  },
  {
   "cell_type": "code",
   "execution_count": 13,
   "id": "e7f4f329",
   "metadata": {},
   "outputs": [],
   "source": [
    "sigma_max=320\n",
    "sigma_tresca_given=sigma_max/2\n",
    "FOS_tresca=sigma_tresca_given/tau_13"
   ]
  },
  {
   "cell_type": "code",
   "execution_count": 14,
   "id": "a130d963",
   "metadata": {},
   "outputs": [
    {
     "data": {
      "text/plain": [
       "2.6574553553196747"
      ]
     },
     "execution_count": 14,
     "metadata": {},
     "output_type": "execute_result"
    }
   ],
   "source": [
    "FOS_tresca"
   ]
  },
  {
   "cell_type": "code",
   "execution_count": 15,
   "id": "7b8d9e0a",
   "metadata": {},
   "outputs": [],
   "source": [
    "sigma_von=1/2*((sigma[0]-sigma[1])**2+(sigma[1]-sigma[2])**2+(sigma[2]-sigma[0])**2)\n",
    "sigma_von_given=sigma_max\n",
    "FOS_von=sigma_von_given/np.sqrt(sigma_von)"
   ]
  },
  {
   "cell_type": "code",
   "execution_count": 16,
   "id": "c96b7aa5",
   "metadata": {},
   "outputs": [
    {
     "data": {
      "text/plain": [
       "2.9090909090909043"
      ]
     },
     "execution_count": 16,
     "metadata": {},
     "output_type": "execute_result"
    }
   ],
   "source": [
    "FOS_von"
   ]
  },
  {
   "cell_type": "code",
   "execution_count": 19,
   "id": "e697f035",
   "metadata": {},
   "outputs": [
    {
     "data": {
      "text/plain": [
       "4.254868037078719"
      ]
     },
     "execution_count": 19,
     "metadata": {},
     "output_type": "execute_result"
    }
   ],
   "source": [
    "FOS_rankine_tension=sigma_max/sigma[0]\n",
    "FOS_rankine_tension"
   ]
  },
  {
   "cell_type": "code",
   "execution_count": 20,
   "id": "8caa3cd8",
   "metadata": {},
   "outputs": [
    {
     "data": {
      "text/plain": [
       "7.078397448843425"
      ]
     },
     "execution_count": 20,
     "metadata": {},
     "output_type": "execute_result"
    }
   ],
   "source": [
    "FOS_rankine_compression=sigma_max/abs(sigma[2])\n",
    "FOS_rankine_compression"
   ]
  },
  {
   "cell_type": "code",
   "execution_count": 18,
   "id": "db5ebc2b",
   "metadata": {},
   "outputs": [
    {
     "data": {
      "text/plain": [
       "4.254868037078719"
      ]
     },
     "execution_count": 18,
     "metadata": {},
     "output_type": "execute_result"
    }
   ],
   "source": []
  },
  {
   "cell_type": "code",
   "execution_count": null,
   "id": "91d0db35",
   "metadata": {},
   "outputs": [],
   "source": []
  },
  {
   "cell_type": "code",
   "execution_count": null,
   "id": "6cfa4366",
   "metadata": {},
   "outputs": [],
   "source": []
  }
 ],
 "metadata": {
  "kernelspec": {
   "display_name": "Python 3",
   "language": "python",
   "name": "python3"
  },
  "language_info": {
   "codemirror_mode": {
    "name": "ipython",
    "version": 3
   },
   "file_extension": ".py",
   "mimetype": "text/x-python",
   "name": "python",
   "nbconvert_exporter": "python",
   "pygments_lexer": "ipython3",
   "version": "3.8.8"
  }
 },
 "nbformat": 4,
 "nbformat_minor": 5
}
