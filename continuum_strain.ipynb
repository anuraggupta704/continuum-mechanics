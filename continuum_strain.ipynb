{
 "cells": [
  {
   "cell_type": "code",
   "execution_count": 1,
   "id": "f37fee0e",
   "metadata": {},
   "outputs": [],
   "source": [
    "import numpy as np"
   ]
  },
  {
   "cell_type": "code",
   "execution_count": 2,
   "id": "386170a6",
   "metadata": {},
   "outputs": [
    {
     "data": {
      "text/plain": [
       "array([[ 0.02 ,  0.005,  0.   ],\n",
       "       [ 0.005, -0.02 ,  0.015],\n",
       "       [ 0.   ,  0.015,  0.04 ]])"
      ]
     },
     "execution_count": 2,
     "metadata": {},
     "output_type": "execute_result"
    }
   ],
   "source": [
    "s= np.array([[0.02, 0.005, 0],\n",
    "       [0.005, -0.02, 0.015],\n",
    "       [0, 0.015, 0.04]])\n",
    "s"
   ]
  },
  {
   "cell_type": "markdown",
   "id": "22cc559d",
   "metadata": {},
   "source": [
    "### Direction cosines"
   ]
  },
  {
   "cell_type": "code",
   "execution_count": 3,
   "id": "b5f88ddb",
   "metadata": {},
   "outputs": [],
   "source": [
    "a,b,c=45,90,135\n",
    "d,e,f=90,0,90\n",
    "g,h,i=45,90,45"
   ]
  },
  {
   "cell_type": "code",
   "execution_count": 4,
   "id": "afb923cb",
   "metadata": {},
   "outputs": [
    {
     "data": {
      "text/plain": [
       "array([[ 7.07106781e-01,  6.12323400e-17, -7.07106781e-01],\n",
       "       [ 6.12323400e-17,  1.00000000e+00,  6.12323400e-17],\n",
       "       [ 7.07106781e-01,  6.12323400e-17,  7.07106781e-01]])"
      ]
     },
     "execution_count": 4,
     "metadata": {},
     "output_type": "execute_result"
    }
   ],
   "source": [
    "m= np.array([[np.cos(np.pi*a/180),np.cos(np.pi*b/180),np.cos(np.pi*c/180)],[np.cos(np.pi*d/180),np.cos(np.pi*e/180),np.cos(np.pi*f/180)],[np.cos(np.pi*g/180),np.cos(np.pi*h/180),np.cos(np.pi*i/180)]])\n",
    "m"
   ]
  },
  {
   "cell_type": "code",
   "execution_count": 5,
   "id": "2bf8fdad",
   "metadata": {},
   "outputs": [
    {
     "data": {
      "text/plain": [
       "array([[ 7.07106781e-01,  6.12323400e-17,  7.07106781e-01],\n",
       "       [ 6.12323400e-17,  1.00000000e+00,  6.12323400e-17],\n",
       "       [-7.07106781e-01,  6.12323400e-17,  7.07106781e-01]])"
      ]
     },
     "execution_count": 5,
     "metadata": {},
     "output_type": "execute_result"
    }
   ],
   "source": [
    "m.T"
   ]
  },
  {
   "cell_type": "code",
   "execution_count": 6,
   "id": "933fee25",
   "metadata": {},
   "outputs": [
    {
     "data": {
      "text/plain": [
       "array([[ 0.03      , -0.00707107, -0.01      ],\n",
       "       [-0.00707107, -0.02      ,  0.01414214],\n",
       "       [-0.01      ,  0.01414214,  0.03      ]])"
      ]
     },
     "execution_count": 6,
     "metadata": {},
     "output_type": "execute_result"
    }
   ],
   "source": [
    "s_new=np.dot(m,np.dot(s,m.T))\n",
    "s_new"
   ]
  },
  {
   "cell_type": "markdown",
   "id": "cf1bf512",
   "metadata": {},
   "source": [
    "### Strain Invariants"
   ]
  },
  {
   "cell_type": "code",
   "execution_count": 7,
   "id": "8482793c",
   "metadata": {
    "scrolled": true
   },
   "outputs": [
    {
     "data": {
      "text/plain": [
       "0.04"
      ]
     },
     "execution_count": 7,
     "metadata": {},
     "output_type": "execute_result"
    }
   ],
   "source": [
    "I1=s[0,0]+s[1,1]+s[2,2]\n",
    "I1"
   ]
  },
  {
   "cell_type": "code",
   "execution_count": 8,
   "id": "d18ee61b",
   "metadata": {},
   "outputs": [
    {
     "data": {
      "text/plain": [
       "-0.0006500000000000001"
      ]
     },
     "execution_count": 8,
     "metadata": {},
     "output_type": "execute_result"
    }
   ],
   "source": [
    "I2=s[0,0]*s[1,1]+s[1,1]*s[2,2]+s[2,2]*s[0,0]-s[0,1]**2-s[1,2]**2-s[2,0]**2\n",
    "I2"
   ]
  },
  {
   "cell_type": "code",
   "execution_count": 9,
   "id": "d50e655b",
   "metadata": {},
   "outputs": [
    {
     "data": {
      "text/plain": [
       "-2.1500000000000004e-05"
      ]
     },
     "execution_count": 9,
     "metadata": {},
     "output_type": "execute_result"
    }
   ],
   "source": [
    "I3=s[0,0]*s[1,1]*s[2,2]+2*s[0,1]*s[1,2]*s[2,0]-s[0,0]*s[1,2]**2-s[1,1]*s[0,2]**2-s[2,2]*s[0,1]**2      \n",
    "I3"
   ]
  },
  {
   "cell_type": "markdown",
   "id": "587ea09b",
   "metadata": {},
   "source": [
    "### Principal strain"
   ]
  },
  {
   "cell_type": "code",
   "execution_count": 10,
   "id": "6c8ebce9",
   "metadata": {
    "scrolled": true
   },
   "outputs": [
    {
     "name": "stdout",
     "output_type": "stream",
     "text": [
      "[-0.02407849  0.04359779  0.0204807 ]\n"
     ]
    }
   ],
   "source": [
    "coeff = [1, -I1, I2, -I3]\n",
    "roots=np.roots(coeff)\n",
    "print(np.roots(coeff))\n",
    "roots=np.sort(roots)\n",
    "roots=roots[::-1]"
   ]
  },
  {
   "cell_type": "markdown",
   "id": "344b4baf",
   "metadata": {},
   "source": [
    "### maximum shear strain"
   ]
  },
  {
   "cell_type": "code",
   "execution_count": 11,
   "id": "7a3c403d",
   "metadata": {},
   "outputs": [
    {
     "data": {
      "text/plain": [
       "0.06767628008034313"
      ]
     },
     "execution_count": 11,
     "metadata": {},
     "output_type": "execute_result"
    }
   ],
   "source": [
    "g_13=(roots[0]-roots[2])\n",
    "g_13"
   ]
  },
  {
   "cell_type": "code",
   "execution_count": 12,
   "id": "0d3a8782",
   "metadata": {},
   "outputs": [
    {
     "data": {
      "text/plain": [
       "0.02311709364230467"
      ]
     },
     "execution_count": 12,
     "metadata": {},
     "output_type": "execute_result"
    }
   ],
   "source": [
    "g_12=(roots[0]-roots[1])\n",
    "g_12"
   ]
  },
  {
   "cell_type": "code",
   "execution_count": 13,
   "id": "78c257f0",
   "metadata": {
    "scrolled": false
   },
   "outputs": [
    {
     "data": {
      "text/plain": [
       "0.04455918643803845"
      ]
     },
     "execution_count": 13,
     "metadata": {},
     "output_type": "execute_result"
    }
   ],
   "source": [
    "g_23=(roots[1]-roots[2])\n",
    "g_23"
   ]
  },
  {
   "cell_type": "markdown",
   "id": "8cc597ea",
   "metadata": {},
   "source": [
    "### Normal strain corresponding to maximum shear strain"
   ]
  },
  {
   "cell_type": "code",
   "execution_count": 14,
   "id": "e5e64ba9",
   "metadata": {},
   "outputs": [
    {
     "data": {
      "text/plain": [
       "0.03203924441973026"
      ]
     },
     "execution_count": 14,
     "metadata": {},
     "output_type": "execute_result"
    }
   ],
   "source": [
    "n_13=(roots[0]+roots[1])/2\n",
    "n_13"
   ]
  },
  {
   "cell_type": "code",
   "execution_count": 15,
   "id": "7bed95c9",
   "metadata": {},
   "outputs": [
    {
     "data": {
      "text/plain": [
       "-0.001798895620441299"
      ]
     },
     "execution_count": 15,
     "metadata": {},
     "output_type": "execute_result"
    }
   ],
   "source": [
    "n_12=(roots[1]+roots[2])/2\n",
    "n_12"
   ]
  },
  {
   "cell_type": "code",
   "execution_count": 16,
   "id": "0a244b09",
   "metadata": {
    "scrolled": false
   },
   "outputs": [
    {
     "data": {
      "text/plain": [
       "0.009759651200711036"
      ]
     },
     "execution_count": 16,
     "metadata": {},
     "output_type": "execute_result"
    }
   ],
   "source": [
    "n_23=(roots[0]+roots[2])/2\n",
    "n_23"
   ]
  },
  {
   "cell_type": "markdown",
   "id": "d9052c9f",
   "metadata": {},
   "source": [
    "### Octahedral stresses"
   ]
  },
  {
   "cell_type": "code",
   "execution_count": 17,
   "id": "9cd6380b",
   "metadata": {},
   "outputs": [
    {
     "data": {
      "text/plain": [
       "0.01333333333333333"
      ]
     },
     "execution_count": 17,
     "metadata": {},
     "output_type": "execute_result"
    }
   ],
   "source": [
    "normal_oct=(roots[0]+roots[1]+roots[2])/3\n",
    "normal_oct"
   ]
  },
  {
   "cell_type": "code",
   "execution_count": 18,
   "id": "20a57310",
   "metadata": {},
   "outputs": [
    {
     "data": {
      "text/plain": [
       "0.05617433182117572"
      ]
     },
     "execution_count": 18,
     "metadata": {},
     "output_type": "execute_result"
    }
   ],
   "source": [
    "shear_oct=2/3*np.sqrt((roots[0]-roots[1])**2+(roots[1]-roots[2])**2+(roots[0]-roots[2])**2)\n",
    "shear_oct"
   ]
  },
  {
   "cell_type": "code",
   "execution_count": null,
   "id": "2b4ea7c2",
   "metadata": {},
   "outputs": [],
   "source": []
  }
 ],
 "metadata": {
  "kernelspec": {
   "display_name": "Python 3",
   "language": "python",
   "name": "python3"
  },
  "language_info": {
   "codemirror_mode": {
    "name": "ipython",
    "version": 3
   },
   "file_extension": ".py",
   "mimetype": "text/x-python",
   "name": "python",
   "nbconvert_exporter": "python",
   "pygments_lexer": "ipython3",
   "version": "3.8.8"
  }
 },
 "nbformat": 4,
 "nbformat_minor": 5
}
