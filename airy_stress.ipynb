{
 "cells": [
  {
   "cell_type": "code",
   "execution_count": 6,
   "id": "f5d98e6e",
   "metadata": {},
   "outputs": [],
   "source": [
    "%matplotlib inline\n",
    "import numpy as np\n",
    "from matplotlib import pyplot as plt\n",
    "import sympy as sm\n",
    "\n",
    "\n",
    "\n",
    "def Airy(phi):\n",
    "    sx = sm.diff(phi,y,y)\n",
    "    sy = sm.diff(phi,x,x)\n",
    "    sxy = -sm.diff(phi,x,y)\n",
    "    return sx, sy, sxy"
   ]
  },
  {
   "cell_type": "code",
   "execution_count": 7,
   "id": "cc04abf1",
   "metadata": {},
   "outputs": [],
   "source": [
    "x,y = sm.symbols('x y')\n",
    "a2,b2,c2 = sm.symbols('a2 b2 c2')\n",
    "phi_ut = 0.5*a2*x**2+b2*x*y+0.5*c2*y**2\n",
    "sx_ut, sy_ut, sxy_ut = Airy(phi_ut)"
   ]
  },
  {
   "cell_type": "code",
   "execution_count": 8,
   "id": "f9e24f3a",
   "metadata": {},
   "outputs": [
    {
     "name": "stdout",
     "output_type": "stream",
     "text": [
      "1.0*c2\n",
      "1.0*a2\n",
      "-b2\n"
     ]
    }
   ],
   "source": [
    "print(sx_ut)\n",
    "print(sy_ut)\n",
    "print(sxy_ut) "
   ]
  },
  {
   "cell_type": "code",
   "execution_count": null,
   "id": "e837c722",
   "metadata": {},
   "outputs": [],
   "source": []
  }
 ],
 "metadata": {
  "kernelspec": {
   "display_name": "Python 3",
   "language": "python",
   "name": "python3"
  },
  "language_info": {
   "codemirror_mode": {
    "name": "ipython",
    "version": 3
   },
   "file_extension": ".py",
   "mimetype": "text/x-python",
   "name": "python",
   "nbconvert_exporter": "python",
   "pygments_lexer": "ipython3",
   "version": "3.8.8"
  }
 },
 "nbformat": 4,
 "nbformat_minor": 5
}
