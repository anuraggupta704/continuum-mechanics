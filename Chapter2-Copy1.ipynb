{
 "cells": [
  {
   "cell_type": "markdown",
   "id": "3bd70b12",
   "metadata": {},
   "source": [
    "# Chapter2-Analysis of Stress(Equlibrium) "
   ]
  },
  {
   "cell_type": "code",
   "execution_count": 1,
   "metadata": {},
   "outputs": [
    {
     "name": "stdout",
     "output_type": "stream",
     "text": [
      "stress matrix [[ 200  500 -100]\n",
      " [ 500 -300  300]\n",
      " [-100  300   50]]\n",
      "direction cosine matrix [[0.8660254037844387, 6.123233995736766e-17, -0.4999999999999998], [6.123233995736766e-17, 1.0, 6.123233995736766e-17], [0.5000000000000001, 6.123233995736766e-17, 0.8660254037844387]]\n",
      "[[ 8.66025404e-01  6.12323400e-17  5.00000000e-01]\n",
      " [ 6.12323400e-17  1.00000000e+00  6.12323400e-17]\n",
      " [-5.00000000e-01  6.12323400e-17  8.66025404e-01]]\n",
      "The new stress tensor is\n",
      "[[ 249.10254038  283.01270189   14.95190528]\n",
      " [ 283.01270189 -300.          509.80762114]\n",
      " [  14.95190528  509.80762114    0.89745962]]\n"
     ]
    }
   ],
   "source": [
    "import math\n",
    "#find the new stress tensor tau\n",
    "import numpy as np\n",
    "import numpy\n",
    "from numpy import linalg\n",
    "## initialization of variables\n",
    "\n",
    "tau=np.array([[200, 500, -100],\n",
    "       [500, -300, 300],\n",
    "       [-100, 300, 50]]) ## some units\n",
    "print('stress matrix',tau)\n",
    "\n",
    "a,b,c=30,90,120\n",
    "d,e,f=90,0,90\n",
    "g,h,i=60,90,30\n",
    "\n",
    "##calculations\n",
    "theta1=np.pi/180\n",
    "a=([[math.cos(a*theta1), math.cos(b*theta1), math.cos(c*theta1)],\n",
    "    [math.cos(d*theta1), math.cos(e*theta1), math.cos(f*theta1)],\n",
    "    [math.cos(g*theta1), math.cos(h*theta1), math.cos(i*theta1)]])\n",
    "print('direction cosine matrix',a)\n",
    "b=numpy.transpose(a)\n",
    "print(b)\n",
    "tau_new=numpy.dot(a,tau)\n",
    "tau_new1=numpy.dot(tau_new,b)\n",
    "## Results\n",
    "print('The new stress tensor is')\n",
    "print(tau_new1)"
   ]
  },
  {
   "cell_type": "code",
   "execution_count": 2,
   "metadata": {},
   "outputs": [],
   "source": [
    "## stress invariants :old \n",
    "I1=tau[0,0]+tau[1,1]+tau[2,2]\n",
    "I2=tau[0,0]*tau[1,1]+tau[1,1]*tau[2,2]+tau[2,2]*tau[0,0]-(tau[0,1]**2+tau[1,2]**2+tau[2,0]**2)\n",
    "I3=tau[0,0]*tau[1,1]*tau[2,2]+2*tau[0,1]*tau[1,2]*tau[2,0]-(tau[0,0]*tau[1,2]**2+tau[1,1]*tau[2,0]**2+tau[2,2]*tau[0,1]**2)\n",
    "\n",
    "## stress invariants :new\n",
    "I11=tau_new1[0,0]+tau_new1[1,1]+tau_new1[2,2]\n",
    "I22=tau_new1[0,0]*tau_new1[1,1]+tau_new1[1,1]*tau_new1[2,2]+tau_new1[2,2]*tau_new1[0,0]-(tau_new1[0,1]**2+tau_new1[1,2]**2+tau_new1[2,0]**2)\n",
    "I33=tau_new1[0,0]*tau_new1[1,1]*tau_new1[2,2]+2*tau_new1[0,1]*tau_new1[1,2]*tau_new1[2,0]-(tau_new1[0,0]*tau_new1[1,2]**2+tau_new1[1,1]*tau_new1[2,0]**2+tau_new1[2,2]*tau_new1[0,1]**2)\n"
   ]
  },
  {
   "cell_type": "code",
   "execution_count": 3,
   "metadata": {},
   "outputs": [
    {
     "name": "stdout",
     "output_type": "stream",
     "text": [
      "-50 -415000 -60500000\n"
     ]
    }
   ],
   "source": [
    "print(I1,I2,I3)"
   ]
  },
  {
   "cell_type": "code",
   "execution_count": 4,
   "metadata": {},
   "outputs": [
    {
     "name": "stdout",
     "output_type": "stream",
     "text": [
      "-49.99999999999981 -415000.0 -60499999.99999999\n"
     ]
    }
   ],
   "source": [
    "print(I11,I22,I33)"
   ]
  },
  {
   "cell_type": "code",
   "execution_count": 5,
   "metadata": {},
   "outputs": [
    {
     "name": "stdout",
     "output_type": "stream",
     "text": [
      "[-730.96875011  522.59075474  158.37799537]\n"
     ]
    }
   ],
   "source": [
    "coeff = [1, -I1, I2, -I3]\n",
    "print(np.roots(coeff))"
   ]
  },
  {
   "cell_type": "code",
   "execution_count": 6,
   "metadata": {},
   "outputs": [
    {
     "data": {
      "text/plain": [
       "array([ 522.59075474,  158.37799537, -730.96875011])"
      ]
     },
     "execution_count": 6,
     "metadata": {},
     "output_type": "execute_result"
    }
   ],
   "source": [
    "roots=np.roots(coeff)\n",
    "roots=np.sort(roots)\n",
    "sigma=roots[::-1]\n",
    "sigma"
   ]
  },
  {
   "cell_type": "code",
   "execution_count": 7,
   "metadata": {},
   "outputs": [
    {
     "data": {
      "text/plain": [
       "-16.666666666666668"
      ]
     },
     "execution_count": 7,
     "metadata": {},
     "output_type": "execute_result"
    }
   ],
   "source": [
    "sig_oct=I1/3\n",
    "sig_oct"
   ]
  },
  {
   "cell_type": "code",
   "execution_count": 8,
   "metadata": {},
   "outputs": [
    {
     "data": {
      "text/plain": [
       "526.5189666310437"
      ]
     },
     "execution_count": 8,
     "metadata": {},
     "output_type": "execute_result"
    }
   ],
   "source": [
    "tau_oct=1/3.*math.sqrt((sigma[0]-sigma[1])**2+(sigma[1]-sigma[2])**2+(sigma[2]-sigma[0])**2)\n",
    "tau_oct"
   ]
  },
  {
   "cell_type": "code",
   "execution_count": 9,
   "metadata": {},
   "outputs": [
    {
     "data": {
      "text/plain": [
       "626.7797524265811"
      ]
     },
     "execution_count": 9,
     "metadata": {},
     "output_type": "execute_result"
    }
   ],
   "source": [
    "tau_13=(sigma[0]-sigma[2])/2\n",
    "tau_13"
   ]
  },
  {
   "cell_type": "code",
   "execution_count": 10,
   "metadata": {},
   "outputs": [],
   "source": [
    "def eigen(m):\n",
    "    w,v = np.linalg.eig(m)\n",
    "    print('eigen values:',w)\n",
    "    print('eigen vectors:',v)"
   ]
  },
  {
   "cell_type": "code",
   "execution_count": 11,
   "metadata": {},
   "outputs": [
    {
     "name": "stdout",
     "output_type": "stream",
     "text": [
      "eigen values: [-730.96875011  522.59075474  158.37799537]\n",
      "eigen vectors: [[ 0.47028901 -0.80891524 -0.35282343]\n",
      " [-0.80199    -0.55858127  0.21165775]\n",
      " [ 0.36829374 -0.18342055  0.91143657]]\n"
     ]
    }
   ],
   "source": [
    "eigen(tau)"
   ]
  },
  {
   "cell_type": "code",
   "execution_count": 12,
   "metadata": {},
   "outputs": [
    {
     "name": "stdout",
     "output_type": "stream",
     "text": [
      "eigen values: [-730.96875011  158.37799537  522.59075474]\n",
      "eigen vectors: [[ 0.22313536 -0.76127234  0.60883087]\n",
      " [-0.80199     0.21165775  0.55858127]\n",
      " [ 0.55409624  0.61291551  0.56330448]]\n"
     ]
    }
   ],
   "source": [
    "eigen(tau_new1)"
   ]
  },
  {
   "cell_type": "code",
   "execution_count": 13,
   "metadata": {},
   "outputs": [
    {
     "name": "stdout",
     "output_type": "stream",
     "text": [
      "\n",
      " The details of circles are given below\n",
      "\n",
      " C1 :  -286.29537737006797  0  444.6733727429579  M Pa \n",
      "\n",
      "\n",
      " C2 :  -104.18899768644468  0  626.7797524265811  M Pa \n",
      "\n",
      "\n",
      " C3 :  340.4843750565132  0  182.1063796836233  M Pa \n",
      "\n"
     ]
    }
   ],
   "source": [
    "## Finding about the circles\n",
    "C11=(sigma[1]+sigma[2])/2\n",
    "C21=(sigma[0]+sigma[2])/2\n",
    "C31=(sigma[0]+sigma[1])/2\n",
    "C12=0\n",
    "C22=0\n",
    "C32=0\n",
    "R1=(sigma[1]-sigma[2])/2\n",
    "R2=(sigma[0]-sigma[2])/2\n",
    "R3=(sigma[0]-sigma[1])/2\n",
    "\n",
    "\n",
    "\n",
    "#SnnA=lA**2.*sigma[0]+mA**2.*sigma[1]+nA**2.*sigma[2]\n",
    "#SnsA=math.sqrt(lA**2*sigma[0]**2+mA**2*sigma[1]**2+nA**2*sigma[2]**2-SnnA**2)\n",
    "#SnnB=lB**2*sigma[0]+mB**2*sigma[1]+nB**2*sigma[2]\n",
    "#SnsB=math.sqrt(lB**2*sigma[0]**2+mB**2*sigma[1]**2+nB**2*sigma[2]**2-SnnB**2)\n",
    "print('\\n The details of circles are given below')\n",
    "print('\\n C1 : ',C11,' M Pa'and  '',C12,'R1' and  '',R1,' M Pa \\n')\n",
    "print('\\n C2 : ',C21,' M Pa'and  '',C22,'R2' and  '',R2,' M Pa \\n')\n",
    "print('\\n C3 : ',C31,' M Pa'and  '',C32,'R3' and  '',R3,' M Pa \\n')\n",
    "\n",
    "#print('\\n at point A')\n",
    "#print('\\n Normal stress = ',SnnA-74,' M Pa' and 'shear stress = ',SnsA+54,' M Pa')\n",
    "#print('\\n at point B')\n",
    "#print('\\n Normal stress = ',SnnB,' M Pa' and 'shear stress = ',SnsB,' M Pa')"
   ]
  },
  {
   "cell_type": "code",
   "execution_count": null,
   "metadata": {},
   "outputs": [],
   "source": []
  },
  {
   "cell_type": "code",
   "execution_count": null,
   "metadata": {},
   "outputs": [],
   "source": []
  },
  {
   "cell_type": "code",
   "execution_count": null,
   "metadata": {},
   "outputs": [],
   "source": []
  },
  {
   "cell_type": "code",
   "execution_count": null,
   "metadata": {},
   "outputs": [],
   "source": []
  },
  {
   "cell_type": "code",
   "execution_count": null,
   "metadata": {},
   "outputs": [],
   "source": []
  },
  {
   "cell_type": "code",
   "execution_count": null,
   "metadata": {},
   "outputs": [],
   "source": []
  },
  {
   "cell_type": "code",
   "execution_count": null,
   "metadata": {},
   "outputs": [],
   "source": []
  },
  {
   "cell_type": "code",
   "execution_count": null,
   "metadata": {},
   "outputs": [],
   "source": []
  },
  {
   "cell_type": "code",
   "execution_count": null,
   "metadata": {},
   "outputs": [],
   "source": []
  },
  {
   "cell_type": "code",
   "execution_count": null,
   "metadata": {},
   "outputs": [],
   "source": []
  },
  {
   "cell_type": "code",
   "execution_count": null,
   "metadata": {},
   "outputs": [],
   "source": []
  },
  {
   "cell_type": "code",
   "execution_count": null,
   "metadata": {},
   "outputs": [],
   "source": []
  },
  {
   "cell_type": "code",
   "execution_count": null,
   "metadata": {},
   "outputs": [],
   "source": []
  },
  {
   "cell_type": "code",
   "execution_count": null,
   "metadata": {},
   "outputs": [],
   "source": []
  },
  {
   "cell_type": "code",
   "execution_count": null,
   "metadata": {},
   "outputs": [],
   "source": []
  },
  {
   "cell_type": "code",
   "execution_count": null,
   "metadata": {},
   "outputs": [],
   "source": []
  },
  {
   "cell_type": "code",
   "execution_count": null,
   "metadata": {},
   "outputs": [],
   "source": []
  },
  {
   "cell_type": "code",
   "execution_count": null,
   "metadata": {},
   "outputs": [],
   "source": []
  },
  {
   "cell_type": "code",
   "execution_count": null,
   "metadata": {},
   "outputs": [],
   "source": []
  },
  {
   "cell_type": "code",
   "execution_count": null,
   "metadata": {},
   "outputs": [],
   "source": []
  },
  {
   "cell_type": "code",
   "execution_count": null,
   "metadata": {},
   "outputs": [],
   "source": []
  },
  {
   "cell_type": "code",
   "execution_count": null,
   "metadata": {},
   "outputs": [],
   "source": []
  },
  {
   "cell_type": "code",
   "execution_count": null,
   "metadata": {},
   "outputs": [],
   "source": []
  },
  {
   "cell_type": "code",
   "execution_count": null,
   "metadata": {},
   "outputs": [],
   "source": []
  },
  {
   "cell_type": "code",
   "execution_count": null,
   "metadata": {},
   "outputs": [],
   "source": []
  },
  {
   "cell_type": "code",
   "execution_count": null,
   "metadata": {},
   "outputs": [],
   "source": []
  },
  {
   "cell_type": "code",
   "execution_count": null,
   "metadata": {},
   "outputs": [],
   "source": []
  },
  {
   "cell_type": "code",
   "execution_count": null,
   "metadata": {},
   "outputs": [],
   "source": []
  },
  {
   "cell_type": "code",
   "execution_count": null,
   "metadata": {},
   "outputs": [],
   "source": []
  },
  {
   "cell_type": "code",
   "execution_count": null,
   "metadata": {},
   "outputs": [],
   "source": []
  },
  {
   "cell_type": "code",
   "execution_count": null,
   "metadata": {},
   "outputs": [],
   "source": []
  },
  {
   "cell_type": "code",
   "execution_count": null,
   "metadata": {},
   "outputs": [],
   "source": []
  },
  {
   "cell_type": "code",
   "execution_count": null,
   "metadata": {},
   "outputs": [],
   "source": []
  },
  {
   "cell_type": "code",
   "execution_count": null,
   "metadata": {},
   "outputs": [],
   "source": []
  },
  {
   "cell_type": "code",
   "execution_count": null,
   "metadata": {},
   "outputs": [],
   "source": []
  },
  {
   "cell_type": "code",
   "execution_count": null,
   "metadata": {},
   "outputs": [],
   "source": []
  },
  {
   "cell_type": "code",
   "execution_count": 19,
   "metadata": {},
   "outputs": [],
   "source": [
    "import matplotlib.pyplot as plt\n",
    "\n",
    "#define circles\n",
    "c1=plt.Circle((C11, C12), radius=R1)\n",
    "c2=plt.Circle((C21, C22), radius=R2)\n",
    "c3=plt.Circle((C31, C32), radius=R3)\n",
    "plt.show()\n"
   ]
  },
  {
   "cell_type": "code",
   "execution_count": 15,
   "metadata": {},
   "outputs": [
    {
     "data": {
      "text/plain": [
       "<matplotlib.patches.Circle at 0x19100bc9880>"
      ]
     },
     "execution_count": 15,
     "metadata": {},
     "output_type": "execute_result"
    },
    {
     "data": {
      "image/png": "[encoded data removed]",
      "text/plain": [
       "<Figure size 432x288 with 1 Axes>"
      ]
     },
     "metadata": {
      "needs_background": "light"
     },
     "output_type": "display_data"
    }
   ],
   "source": [
    "#add circles to plot\n",
    "plt.gca().add_artist(c1)\n",
    "#plt.gca().add_artist(c2)\n",
    "#plt.gca().add_artist(c3)"
   ]
  },
  {
   "cell_type": "code",
   "execution_count": 16,
   "metadata": {},
   "outputs": [],
   "source": [
    "sigma_max=200\n",
    "tau_given=sigma_max/2\n",
    "FOS=tau_given/tau_13\n"
   ]
  },
  {
   "cell_type": "markdown",
   "id": "e93469d4",
   "metadata": {},
   "source": [
    "## Ex4-pg54"
   ]
  },
  {
   "cell_type": "code",
   "execution_count": 17,
   "id": "64171b8b",
   "metadata": {},
   "outputs": [
    {
     "ename": "SyntaxError",
     "evalue": "Missing parentheses in call to 'print'. Did you mean print(tau_new1)? (<ipython-input-17-72cf46fa926a>, line 21)",
     "output_type": "error",
     "traceback": [
      "\u001b[1;36m  File \u001b[1;32m\"<ipython-input-17-72cf46fa926a>\"\u001b[1;36m, line \u001b[1;32m21\u001b[0m\n\u001b[1;33m    print tau_new1\u001b[0m\n\u001b[1;37m          ^\u001b[0m\n\u001b[1;31mSyntaxError\u001b[0m\u001b[1;31m:\u001b[0m Missing parentheses in call to 'print'. Did you mean print(tau_new1)?\n"
     ]
    }
   ],
   "source": [
    "import math\n",
    "#find the new stress tensor tau\n",
    "import numpy\n",
    "from numpy import linalg\n",
    "## initialization of variables\n",
    "\n",
    "tau=([[200, 100, 0],\n",
    "      [100, 0, 0],\n",
    "      [0 ,0, 500]]) ## some units\n",
    "theta=60. ## degrees\n",
    "##calculations\n",
    "theta1=theta/57.3\n",
    "a=([[math.cos(theta1), math.sin(theta1), 0],\n",
    "    [-math.sin(theta1), math.cos(theta1), 0],\n",
    "    [0, 0, 1]])\n",
    "b=numpy.transpose(a)\n",
    "tau_new=numpy.dot(a,tau)\n",
    "tau_new1=numpy.dot(tau_new,b)\n",
    "## Results\n",
    "print('The new stress tensor is')\n",
    "print tau_new1"
   ]
  },
  {
   "cell_type": "markdown",
   "id": "71c165e2",
   "metadata": {},
   "source": [
    "## Ex5-pg61"
   ]
  },
  {
   "cell_type": "code",
   "execution_count": null,
   "id": "f47b3346",
   "metadata": {},
   "outputs": [],
   "source": [
    "find the octahedral at this point\n",
    "## initialization of variables\n",
    "import math\n",
    "sigma_1=100. ##kg*f/cm^2\n",
    "sigma_2=100. ##kg*f/cm^2\n",
    "sigma_3=-200. ##kg*f/cm^2\n",
    "## calculations\n",
    "tau_oct=1/3.*math.sqrt((sigma_1-sigma_2)**2+(sigma_2-sigma_3)**2+(sigma_3-sigma_1)**2)\n",
    "## Results\n",
    "print'%s %.2f %s '%('Octahedra shear stress at the point is=',tau_oct,' kgf/cm^2')\n"
   ]
  },
  {
   "cell_type": "markdown",
   "id": "75c20d81",
   "metadata": {},
   "source": [
    "## Ex7-pg61"
   ]
  },
  {
   "cell_type": "code",
   "execution_count": null,
   "id": "d99ca444",
   "metadata": {},
   "outputs": [],
   "source": [
    "import math\n",
    "#check whether the invariants of stress sensor\n",
    "import numpy\n",
    "from numpy import linalg\n",
    "## initialization of variable\n",
    "tau=numpy.matrix([[200, 100, 0],\n",
    "     [100, 0, 0],\n",
    "     [0, 0, 500]]) ## some units\n",
    "theta=60. ## degrees\n",
    "##calculations\n",
    "theta=theta*math.pi/180.\n",
    "a=numpy.matrix([[math.cos(theta), math.sin(theta), 0],\n",
    "  [-math.sin(theta), math.cos(theta), 0],\n",
    "   [0, 0, 1]])\n",
    "b=numpy.transpose(a)\n",
    "tau_new=numpy.dot(a,tau)\n",
    "tau_new1=numpy.dot(tau_new,b)\n",
    "\n",
    "## stress invariants :old \n",
    "I1=tau[0,0]+tau[1,1]+tau[2,2]\n",
    "I2=tau[0,0]*tau[1,1]+tau[1,1]*tau[2,2]+tau[2,2]*tau[0,0]-(tau[0,1]**2+tau[1,2]**2+tau[2,0]**2)\n",
    "I3=tau[0,0]*tau[1,1]*tau[2,2]+2*tau[0,1]*tau[1,2]*tau[2,0]-(tau[0,0]*tau[1,2]**2+tau[1,1]*tau[2,0]**2+tau[2,2]*tau[0,1]**2)\n",
    "\n",
    "## stress invariants :new\n",
    "I11=tau_new1[0,0]+tau_new1[0,0]+tau_new1[1,1]\n",
    "I22=tau_new1[0,0]*tau_new1[1,1]+tau_new1[1,1]*tau_new1[2,2]+tau_new1[1,1]*tau_new1[0,0]-[tau_new1[0,1]**2+tau_new1[1,2]**2+tau_new1[1,0]**2]\n",
    "I33=tau_new1[0,0]*tau_new1[1,1]*tau_new1[2,2]+2*tau_new1[0,1]*tau_new1[1,2]*tau_new1[2,0]-[tau_new1[0,0]*tau_new1[1,2]**2+tau_new1[1,1]*tau_new1[2,0]**2+tau_new1[2,2]*tau_new1[0,1]**2]\n",
    "\n",
    "## Results\n",
    "print'%s %.2f %s %.2f %s %.2f %s %.2f %s %.2f %s %.2f' %('The invariants of old stress tensor are I1=',I1,' I2=',I2,' I3=',I3,' \\n and that of the new stress tensor are I1=',I11,' I2=',I22,' I3=',I33)\n",
    "\n",
    "print('\\n Hence the same stress tensor invariants')\n",
    "\n",
    "\n",
    "\n"
   ]
  },
  {
   "cell_type": "markdown",
   "id": "ac091f65",
   "metadata": {},
   "source": [
    "## Ex8-pg67"
   ]
  },
  {
   "cell_type": "code",
   "execution_count": null,
   "id": "d04b4047",
   "metadata": {},
   "outputs": [],
   "source": [
    "import math\n",
    "## initialization of variables\n",
    "#find the value of sigma 1 and sigma2 at biaxial yeilding and unaxial\n",
    "sigma_3=0. ## kgf/cm**2\n",
    "tau_oct=1500. ## kgf/cm**2\n",
    "n=2 ## given that sigma_1=n*sigma_2\n",
    "## calculations\n",
    "sigma_2=1500.*3./(math.sqrt(2*n**2-2*n+2)) ## ## kgf/cm**2\n",
    "sigma_1=n*sigma_2 ## kgf/cm**2 \n",
    "sigma_0=4500./math.sqrt(2.) ## kgf/cm**2\n",
    "## Results\n",
    "print'%s %.2f %s %.2f %s %.2f %s  '%('The necessary stresses sigma_1, sigma_2 for biaxial yielding are \\n ',sigma_2,' kgf/cm^2' '',sigma_1,' kgf/cm^2' and 'for uniaxial yielding sigma_0 ',sigma_0,'kgf/cm^2.')\n",
    "                    \n",
    "\n",
    "\n"
   ]
  },
  {
   "cell_type": "markdown",
   "id": "950a51ce",
   "metadata": {},
   "source": [
    "## Ex9-pg68"
   ]
  },
  {
   "cell_type": "code",
   "execution_count": null,
   "id": "fbec7850",
   "metadata": {},
   "outputs": [],
   "source": [
    "import math\n",
    "##initialization of variables\n",
    "#find the magnitude and direction of principal stress for the a b c\n",
    "## part (a)\n",
    "tau_xx=300 ## kgf/cm**2\n",
    "tau_yy=0 ## kgf/cm**2\n",
    "tau_xy=600 ## kgf/cm**2\n",
    "##calculations\n",
    "sigma_1=(tau_xx+tau_yy)/2.+math.sqrt((1./2.*(tau_xx-tau_yy))**2+tau_xy**2)\n",
    "sigma_2=(tau_xx+tau_yy)/2-math.sqrt((1/2.*(tau_xx-tau_yy))**2+tau_xy**2)\n",
    "Beta=math.atan(2*tau_xy/(tau_xx-tau_yy))\n",
    "Beta=Beta*180/math.pi\n",
    "##Results\n",
    "print'%s %.2f%s %.2f %s %.2f %s'%('\\n Part (a) \\n The magnitude of principal stresses are',sigma_1,''and '',sigma_2,'kgf/cm^2' and' \\n the direction is given by 2*beta=',Beta,'')\n",
    "\n",
    "\n",
    "##part (b)\n",
    "tau_xx=1000 ## kgf/cm**2\n",
    "tau_yy=150 ## kgf/cm**2\n",
    "tau_xy=450 ## kgf/cm**2\n",
    "## calculations\n",
    "sigma_1=(tau_xx+tau_yy)/2+math.sqrt((1/2*(tau_xx-tau_yy))**2+tau_xy**2)\n",
    "sigma_2=(tau_xx+tau_yy)/2-math.sqrt((1/2*(tau_xx-tau_yy))**2+tau_xy**2)\n",
    "Beta=math.atan(2*tau_xy/(tau_xx-tau_yy))\n",
    "Beta1=Beta*180./math.pi\n",
    "## Results\n",
    "print'%s %.2f %s  %.2f %s %.2f %s '%('\\n Part (b) \\n The magnitude of principal stresses are',sigma_1,''and '',sigma_2,'kgf/cm^2' and' \\n the direction is given by 2*beta=',Beta1,'')\n",
    "\n",
    "## part (c)\n",
    "tau_xx=-850 ## kgf/cm**2\n",
    "tau_yy=350 ## kgf/cm**2\n",
    "tau_xy=700 ## kgf/cm**2\n",
    "## calculations\n",
    "sigma_1=(tau_xx+tau_yy)/2+math.sqrt((1/2*(tau_xx-tau_yy))**2+tau_xy**2)\n",
    "sigma_2=(tau_xx+tau_yy)/2-math.sqrt((1/2*(tau_xx-tau_yy))**2+tau_xy**2)\n",
    "Beta=math.atan(2*tau_xy/(tau_xx-tau_yy))\n",
    "Beta=Beta*57.3\n",
    "## Results\n",
    "print'%s %.2f %s %.2f %s %.2f %s '%('\\n Part (c) \\n The magnitude of principal stresses are',sigma_1,''and '',sigma_2,'kgf/cm^2' and' \\n the direction is given by 2*beta=',-Beta,'')\n",
    "                   \n",
    "\n",
    "## wrong answers were given in textbook for part (b) (c)\n",
    "\n",
    "\n",
    "\n"
   ]
  },
  {
   "cell_type": "markdown",
   "id": "744c6384",
   "metadata": {},
   "source": [
    "## Ex10-pg70"
   ]
  },
  {
   "cell_type": "code",
   "execution_count": null,
   "id": "2387975c",
   "metadata": {},
   "outputs": [],
   "source": [
    "import  math\n",
    "# initialization of variables\n",
    "#find the intensity of diagonal tension\n",
    "tau_xx= -1 # kgf/cm^2\n",
    "tau_yy= 0 # kgf/cm^2\n",
    "tau_xy= 7 # kgf/cm^2\n",
    "# calculations \n",
    "sigma_1=(tau_xx+tau_yy)/2.+math.sqrt((1/2.*(tau_xx-tau_yy))**2+tau_xy**2)\n",
    "sigma_2=(tau_xx+tau_yy)/2.-math.sqrt((1/2.*(tau_xx-tau_yy))**2+tau_xy**2)\n",
    "x=sigma_1 # positive one is tension\n",
    "if(sigma_2>sigma_1):\n",
    "    x=sigma_2\n",
    "\n",
    "# Results\n",
    "print'%s %.2f %s'%('The diagonal tension is ',x,' kgf/cm^2')\n"
   ]
  },
  {
   "cell_type": "markdown",
   "id": "69427e6b",
   "metadata": {},
   "source": [
    "## Ex11-pg70"
   ]
  },
  {
   "cell_type": "code",
   "execution_count": null,
   "id": "ce075c7d",
   "metadata": {},
   "outputs": [],
   "source": [
    "import math\n",
    "# initialization of variables\n",
    "#find the state of stress at the joint\n",
    "d=2 # m\n",
    "l=10 # m\n",
    "t=1 # cm\n",
    "p=15 # kgf/cm^2\n",
    "pitch= 2*math.pi #m\n",
    "##calculations\n",
    "w=2*math.pi*d/2. # m\n",
    "theta=math.atan(w/(2*math.pi))\n",
    "sigma_z=p*d*100./(4.*t)\n",
    "sigma_th=p*d*100./(2.*t)\n",
    "sigma_th_new=(sigma_th+sigma_z)/2.+(sigma_th-sigma_z)/2.*math.cos(2*theta)\n",
    "tau_thz=(sigma_z-sigma_th)*math.sin(2.*theta)/2\n",
    "# results\n",
    "print'%s %.2f %s %.2f %s '%('At the junction, the normal and shear stresses are',sigma_th_new,'' and '',-tau_thz,' kgf/cm^2 \\n respectively, and the rivets must be designed for this')"
   ]
  }
 ],
 "metadata": {
  "kernelspec": {
   "display_name": "Python 3",
   "language": "python",
   "name": "python3"
  },
  "language_info": {
   "codemirror_mode": {
    "name": "ipython",
    "version": 3
   },
   "file_extension": ".py",
   "mimetype": "text/x-python",
   "name": "python",
   "nbconvert_exporter": "python",
   "pygments_lexer": "ipython3",
   "version": "3.8.8"
  }
 },
 "nbformat": 4,
 "nbformat_minor": 1
}
