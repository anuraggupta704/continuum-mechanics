{
 "cells": [
  {
   "cell_type": "code",
   "execution_count": 1,
   "id": "f37fee0e",
   "metadata": {},
   "outputs": [],
   "source": [
    "import numpy as np"
   ]
  },
  {
   "cell_type": "code",
   "execution_count": 3,
   "id": "386170a6",
   "metadata": {},
   "outputs": [
    {
     "data": {
      "text/plain": [
       "array([[ 2.200000e-03,  8.042300e+01,  1.206348e+02],\n",
       "       [ 8.042300e+01,  6.000000e-04,  1.206348e+02],\n",
       "       [ 1.206348e+02,  1.206348e+02, -2.000000e-04]])"
      ]
     },
     "execution_count": 3,
     "metadata": {},
     "output_type": "execute_result"
    }
   ],
   "source": [
    "s= np.array([[2.2*10**(-3), 80423*10**(-3),120634.8*10**(-3)],\n",
    "       [80423*10**(-3), 0.6*10**(-3), 120634.8*10**(-3)],\n",
    "       [120634.8*10**(-3), 120634.8*10**(-3), -0.2*10**(-3)]])\n",
    "s"
   ]
  },
  {
   "cell_type": "code",
   "execution_count": 4,
   "id": "b5f88ddb",
   "metadata": {},
   "outputs": [],
   "source": [
    "a,b,c=0,90,90\n",
    "d,e,f=90,60,30\n",
    "g,h,i=90,150,60"
   ]
  },
  {
   "cell_type": "code",
   "execution_count": 5,
   "id": "afb923cb",
   "metadata": {},
   "outputs": [
    {
     "data": {
      "text/plain": [
       "array([[ 1.00000000e+00,  6.12323400e-17,  6.12323400e-17],\n",
       "       [ 6.12323400e-17,  5.00000000e-01,  8.66025404e-01],\n",
       "       [ 6.12323400e-17, -8.66025404e-01,  5.00000000e-01]])"
      ]
     },
     "execution_count": 5,
     "metadata": {},
     "output_type": "execute_result"
    }
   ],
   "source": [
    "m= np.array([[np.cos(np.pi*a/180),np.cos(np.pi*b/180),np.cos(np.pi*c/180)],\n",
    "             [np.cos(np.pi*d/180),np.cos(np.pi*e/180),np.cos(np.pi*f/180)],\n",
    "             [np.cos(np.pi*g/180),np.cos(np.pi*h/180),np.cos(np.pi*i/180)]])\n",
    "m"
   ]
  },
  {
   "cell_type": "code",
   "execution_count": 6,
   "id": "2bf8fdad",
   "metadata": {},
   "outputs": [
    {
     "data": {
      "text/plain": [
       "array([[ 1.00000000e+00,  6.12323400e-17,  6.12323400e-17],\n",
       "       [ 6.12323400e-17,  5.00000000e-01, -8.66025404e-01],\n",
       "       [ 6.12323400e-17,  8.66025404e-01,  5.00000000e-01]])"
      ]
     },
     "execution_count": 6,
     "metadata": {},
     "output_type": "execute_result"
    }
   ],
   "source": [
    "m.T"
   ]
  },
  {
   "cell_type": "code",
   "execution_count": 7,
   "id": "933fee25",
   "metadata": {},
   "outputs": [
    {
     "data": {
      "text/plain": [
       "array([[ 2.20000000e-03,  1.44684301e+02, -9.33096105e+00],\n",
       "       [ 1.44684301e+02,  1.04472801e+02, -6.03177464e+01],\n",
       "       [-9.33096105e+00, -6.03177464e+01, -1.04472401e+02]])"
      ]
     },
     "execution_count": 7,
     "metadata": {},
     "output_type": "execute_result"
    }
   ],
   "source": [
    "s_new=np.dot(m,np.dot(s,m.T))\n",
    "s_new"
   ]
  },
  {
   "cell_type": "code",
   "execution_count": 8,
   "id": "8482793c",
   "metadata": {
    "scrolled": true
   },
   "outputs": [
    {
     "data": {
      "text/plain": [
       "0.0026"
      ]
     },
     "execution_count": 8,
     "metadata": {},
     "output_type": "execute_result"
    }
   ],
   "source": [
    "I1=s[0,0]+s[1,1]+s[2,2]\n",
    "I1"
   ]
  },
  {
   "cell_type": "code",
   "execution_count": 9,
   "id": "d18ee61b",
   "metadata": {},
   "outputs": [
    {
     "data": {
      "text/plain": [
       "-35573.36887032"
      ]
     },
     "execution_count": 9,
     "metadata": {},
     "output_type": "execute_result"
    }
   ],
   "source": [
    "I2=s[0,0]*s[1,1]+s[1,1]*s[2,2]+s[2,2]*s[0,0]-s[0,1]**2-s[1,2]**2-s[2,0]**2\n",
    "I2"
   ]
  },
  {
   "cell_type": "code",
   "execution_count": 10,
   "id": "d50e655b",
   "metadata": {},
   "outputs": [
    {
     "data": {
      "text/plain": [
       "2340712.9719297667"
      ]
     },
     "execution_count": 10,
     "metadata": {},
     "output_type": "execute_result"
    }
   ],
   "source": [
    "I3=s[0,0]*s[1,1]*s[2,2]+2*s[0,1]*s[1,2]*s[2,0]-s[0,0]*s[1,2]**2-s[1,1]*s[0,2]**2-s[2,2]*s[0,1]**2      \n",
    "I3"
   ]
  },
  {
   "cell_type": "code",
   "execution_count": 11,
   "id": "bacd07c7",
   "metadata": {},
   "outputs": [
    {
     "name": "stdout",
     "output_type": "stream",
     "text": [
      "[ 215.49056135 -135.06636135  -80.4216    ]\n"
     ]
    }
   ],
   "source": [
    "coeff = [1, -I1, I2, -I3]\n",
    "print(np.roots(coeff))"
   ]
  },
  {
   "cell_type": "code",
   "execution_count": 12,
   "id": "79bebc40",
   "metadata": {},
   "outputs": [],
   "source": [
    "def eigen(m):\n",
    "    w,v = np.linalg.eig(m)\n",
    "    print('eigen values:',w)\n",
    "    print('eigen vectors:',v)"
   ]
  },
  {
   "cell_type": "code",
   "execution_count": 13,
   "id": "35ad5bbe",
   "metadata": {},
   "outputs": [
    {
     "name": "stdout",
     "output_type": "stream",
     "text": [
      "eigen values: [ 215.49056135  -80.4216     -135.06636135]\n",
      "eigen vectors: [[-5.54397458e-01 -7.07109595e-01 -4.38907143e-01]\n",
      " [-5.54394460e-01  7.07103968e-01 -4.38919994e-01]\n",
      " [-6.20717521e-01  8.44046252e-06  7.84034284e-01]]\n"
     ]
    }
   ],
   "source": [
    "eigen(s)"
   ]
  },
  {
   "cell_type": "code",
   "execution_count": 14,
   "id": "6f18273a",
   "metadata": {
    "scrolled": true
   },
   "outputs": [
    {
     "data": {
      "text/plain": [
       "array([[ 2.20000000e-03,  1.44684301e+02, -9.33096105e+00],\n",
       "       [ 1.44684301e+02,  1.04472801e+02, -6.03177464e+01],\n",
       "       [-9.33096105e+00, -6.03177464e+01, -1.04472401e+02]])"
      ]
     },
     "execution_count": 14,
     "metadata": {},
     "output_type": "execute_result"
    }
   ],
   "source": [
    "s_new"
   ]
  },
  {
   "cell_type": "code",
   "execution_count": 15,
   "id": "9360c636",
   "metadata": {
    "scrolled": true
   },
   "outputs": [
    {
     "data": {
      "text/plain": [
       "0.0026000000000436785"
      ]
     },
     "execution_count": 15,
     "metadata": {},
     "output_type": "execute_result"
    }
   ],
   "source": [
    "I1=s_new[0,0]+s_new[1,1]+s_new[2,2]\n",
    "I1"
   ]
  },
  {
   "cell_type": "code",
   "execution_count": 16,
   "id": "9fe840b5",
   "metadata": {},
   "outputs": [
    {
     "data": {
      "text/plain": [
       "-35573.36887032002"
      ]
     },
     "execution_count": 16,
     "metadata": {},
     "output_type": "execute_result"
    }
   ],
   "source": [
    "I2=s_new[0,0]*s_new[1,1]+s_new[1,1]*s_new[2,2]+s_new[2,2]*s_new[0,0]-s_new[0,1]**2-s_new[1,2]**2-s_new[2,0]**2\n",
    "I2"
   ]
  },
  {
   "cell_type": "code",
   "execution_count": 17,
   "id": "c89ebfad",
   "metadata": {},
   "outputs": [
    {
     "data": {
      "text/plain": [
       "2340712.971929768"
      ]
     },
     "execution_count": 17,
     "metadata": {},
     "output_type": "execute_result"
    }
   ],
   "source": [
    "I3=s_new[0,0]*s_new[1,1]*s_new[2,2]+2*s_new[0,1]*s_new[1,2]*s_new[2,0]-s_new[0,0]*s_new[1,2]**2-s_new[1,1]*s_new[0,2]**2-s_new[2,2]*s_new[0,1]**2      \n",
    "I3"
   ]
  },
  {
   "cell_type": "code",
   "execution_count": 18,
   "id": "5c14be6f",
   "metadata": {},
   "outputs": [
    {
     "name": "stdout",
     "output_type": "stream",
     "text": [
      "[ 215.49056135 -135.06636135  -80.4216    ]\n"
     ]
    }
   ],
   "source": [
    "coeff = [1, -I1, I2, -I3]\n",
    "roots=np.roots(coeff)\n",
    "print(np.roots(coeff))"
   ]
  },
  {
   "cell_type": "code",
   "execution_count": 19,
   "id": "48f512c0",
   "metadata": {},
   "outputs": [
    {
     "name": "stdout",
     "output_type": "stream",
     "text": [
      "eigen values: [ 215.49056135  -80.4216     -135.06636135]\n",
      "eigen vectors: [[-0.55439746 -0.70710959 -0.43890714]\n",
      " [-0.81475437  0.35355929  0.45953361]\n",
      " [ 0.16976093 -0.61236578  0.77213301]]\n"
     ]
    }
   ],
   "source": [
    "eigen(s_new)"
   ]
  },
  {
   "cell_type": "code",
   "execution_count": 20,
   "id": "2e830b02",
   "metadata": {},
   "outputs": [
    {
     "data": {
      "text/plain": [
       "array([ 215.49056135,  -80.4216    , -135.06636135])"
      ]
     },
     "execution_count": 20,
     "metadata": {},
     "output_type": "execute_result"
    }
   ],
   "source": [
    "roots=np.sort(roots)\n",
    "roots=roots[::-1]\n",
    "roots"
   ]
  },
  {
   "cell_type": "code",
   "execution_count": 21,
   "id": "66566033",
   "metadata": {},
   "outputs": [
    {
     "data": {
      "text/plain": [
       "175.2784613533391"
      ]
     },
     "execution_count": 21,
     "metadata": {},
     "output_type": "execute_result"
    }
   ],
   "source": [
    "tau_13=(roots[0]-roots[2])/2\n",
    "tau_13"
   ]
  },
  {
   "cell_type": "code",
   "execution_count": 22,
   "id": "83c6d2c7",
   "metadata": {},
   "outputs": [
    {
     "data": {
      "text/plain": [
       "147.95608067428233"
      ]
     },
     "execution_count": 22,
     "metadata": {},
     "output_type": "execute_result"
    }
   ],
   "source": [
    "tau_12=(roots[0]-roots[1])/2\n",
    "tau_12"
   ]
  },
  {
   "cell_type": "code",
   "execution_count": 23,
   "id": "85a35ac4",
   "metadata": {},
   "outputs": [
    {
     "data": {
      "text/plain": [
       "27.322380679056778"
      ]
     },
     "execution_count": 23,
     "metadata": {},
     "output_type": "execute_result"
    }
   ],
   "source": [
    "tau_23=(roots[1]-roots[2])/2\n",
    "tau_23"
   ]
  },
  {
   "cell_type": "code",
   "execution_count": 24,
   "id": "c3ffbab3",
   "metadata": {},
   "outputs": [
    {
     "data": {
      "text/plain": [
       "0.0008666666666812262"
      ]
     },
     "execution_count": 24,
     "metadata": {},
     "output_type": "execute_result"
    }
   ],
   "source": [
    "sig_oct=I1/3\n",
    "sig_oct"
   ]
  },
  {
   "cell_type": "code",
   "execution_count": 25,
   "id": "6bb7324d",
   "metadata": {},
   "outputs": [
    {
     "data": {
      "text/plain": [
       "153.9986339172599"
      ]
     },
     "execution_count": 25,
     "metadata": {},
     "output_type": "execute_result"
    }
   ],
   "source": [
    "tau_oct=np.sqrt((2*I1**2-6*I2)/9)\n",
    "tau_oct"
   ]
  },
  {
   "cell_type": "code",
   "execution_count": 26,
   "id": "69d9ff67",
   "metadata": {},
   "outputs": [
    {
     "data": {
      "text/plain": [
       "153.9986339172599"
      ]
     },
     "execution_count": 26,
     "metadata": {},
     "output_type": "execute_result"
    }
   ],
   "source": [
    "tau_oct=1/3*np.sqrt((roots[0]-roots[1])**2+(roots[1]-roots[2])**2+(roots[2]-roots[0])**2)\n",
    "tau_oct"
   ]
  },
  {
   "cell_type": "code",
   "execution_count": null,
   "id": "780cea35",
   "metadata": {},
   "outputs": [],
   "source": []
  },
  {
   "cell_type": "code",
   "execution_count": null,
   "id": "441f1525",
   "metadata": {},
   "outputs": [],
   "source": []
  },
  {
   "cell_type": "code",
   "execution_count": null,
   "id": "a1ce6c63",
   "metadata": {},
   "outputs": [],
   "source": []
  },
  {
   "cell_type": "code",
   "execution_count": null,
   "id": "4cb42e04",
   "metadata": {},
   "outputs": [],
   "source": []
  },
  {
   "cell_type": "code",
   "execution_count": null,
   "id": "324b83f2",
   "metadata": {},
   "outputs": [],
   "source": []
  },
  {
   "cell_type": "code",
   "execution_count": null,
   "id": "f459103b",
   "metadata": {},
   "outputs": [],
   "source": []
  },
  {
   "cell_type": "code",
   "execution_count": null,
   "id": "76dc266a",
   "metadata": {},
   "outputs": [],
   "source": []
  },
  {
   "cell_type": "code",
   "execution_count": null,
   "id": "2ca32dc6",
   "metadata": {},
   "outputs": [],
   "source": [
    "I = np.identity(3, dtype = float)\n",
    "print(\"Matrix b : \\n\", I)"
   ]
  },
  {
   "cell_type": "code",
   "execution_count": null,
   "id": "6e26ae2f",
   "metadata": {},
   "outputs": [],
   "source": [
    "Z=np.linalg.solve(A,B)"
   ]
  }
 ],
 "metadata": {
  "kernelspec": {
   "display_name": "Python 3",
   "language": "python",
   "name": "python3"
  },
  "language_info": {
   "codemirror_mode": {
    "name": "ipython",
    "version": 3
   },
   "file_extension": ".py",
   "mimetype": "text/x-python",
   "name": "python",
   "nbconvert_exporter": "python",
   "pygments_lexer": "ipython3",
   "version": "3.8.8"
  }
 },
 "nbformat": 4,
 "nbformat_minor": 5
}
